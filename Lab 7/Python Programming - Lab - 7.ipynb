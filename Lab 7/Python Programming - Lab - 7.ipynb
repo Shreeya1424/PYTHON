{
 "cells": [
  {
   "cell_type": "markdown",
   "metadata": {},
   "source": [
    "<a href='https://www.darshan.ac.in/'> <img src='https://www.darshan.ac.in/Content/media/DU_Logo.svg' width=\"250\" height=\"300\"/></a>\n",
    "<pre>\n",
    "<center><b><h1>Python Programming - 2301CS404</b></center>\n",
    "<center><b><h1>Lab - 7</b></center>\n",
    "<center><b><h1>Dhol Shreeya | 23010101066 | 10-01-2025</b></center>\n",
    "<pre>"
   ]
  },
  {
   "cell_type": "markdown",
   "metadata": {},
   "source": [
    "# Set & Dictionary"
   ]
  },
  {
   "cell_type": "markdown",
   "metadata": {},
   "source": [
    "### 01) WAP to iterate over a set."
   ]
  },
  {
   "cell_type": "code",
   "execution_count": 4,
   "metadata": {},
   "outputs": [
    {
     "name": "stdout",
     "output_type": "stream",
     "text": [
      "10.2\n",
      "23.45\n",
      "10\n",
      "(4+3j)\n",
      "Hello\n"
     ]
    }
   ],
   "source": [
    "s1 = {10,23.45,10,10.20,4+3j,'Hello'}\n",
    "for i in s1:\n",
    "    print(i)"
   ]
  },
  {
   "cell_type": "markdown",
   "metadata": {},
   "source": [
    "### 02) WAP to convert set into list, string and tuple."
   ]
  },
  {
   "cell_type": "code",
   "execution_count": 51,
   "metadata": {},
   "outputs": [
    {
     "name": "stdout",
     "output_type": "stream",
     "text": [
      "[10.2, 23.45, 10, (4+3j), 'Hello']\n",
      "(10.2, 23.45, 10, (4+3j), 'Hello')\n",
      "{10.2, 23.45, 10, (4+3j), 'Hello'}\n"
     ]
    }
   ],
   "source": [
    "s1 = {10,23.45,10,10.20,4+3j,'Hello'}\n",
    "list(s1)\n",
    "print(list(s1))\n",
    "tuple(s1)\n",
    "print(tuple(s1))\n",
    "str(s1)\n",
    "print(str(s1))\n"
   ]
  },
  {
   "cell_type": "markdown",
   "metadata": {},
   "source": [
    "### 03) WAP to find Maximum and Minimum from a set."
   ]
  },
  {
   "cell_type": "code",
   "execution_count": 128,
   "metadata": {},
   "outputs": [
    {
     "ename": "TypeError",
     "evalue": "'float' object is not callable",
     "output_type": "error",
     "traceback": [
      "\u001b[1;31m---------------------------------------------------------------------------\u001b[0m",
      "\u001b[1;31mTypeError\u001b[0m                                 Traceback (most recent call last)",
      "Cell \u001b[1;32mIn[128], line 3\u001b[0m\n\u001b[0;32m      1\u001b[0m my_set \u001b[38;5;241m=\u001b[39m {\u001b[38;5;241m10\u001b[39m, \u001b[38;5;241m3\u001b[39m, \u001b[38;5;241m5\u001b[39m, \u001b[38;5;241m7\u001b[39m, \u001b[38;5;241m2\u001b[39m, \u001b[38;5;241m9\u001b[39m, \u001b[38;5;241m1\u001b[39m}\n\u001b[1;32m----> 3\u001b[0m max_value \u001b[38;5;241m=\u001b[39m \u001b[38;5;28mmax\u001b[39m(my_set)\n\u001b[0;32m      4\u001b[0m min_value \u001b[38;5;241m=\u001b[39m \u001b[38;5;28mmin\u001b[39m(my_set)\n\u001b[0;32m      6\u001b[0m \u001b[38;5;28mprint\u001b[39m(\u001b[38;5;124m\"\u001b[39m\u001b[38;5;124mMaximum value:\u001b[39m\u001b[38;5;124m\"\u001b[39m, max_value)\n",
      "\u001b[1;31mTypeError\u001b[0m: 'float' object is not callable"
     ]
    }
   ],
   "source": [
    "my_set = {10, 3, 5, 7, 2, 9, 1}\n",
    "\n",
    "max_value = max(my_set)\n",
    "min_value = min(my_set)\n",
    "\n",
    "print(\"Maximum value:\", max_value)\n",
    "print(\"Minimum value:\", min_value)"
   ]
  },
  {
   "cell_type": "markdown",
   "metadata": {},
   "source": [
    "### 04) WAP to perform union of two sets."
   ]
  },
  {
   "cell_type": "code",
   "execution_count": 37,
   "metadata": {},
   "outputs": [
    {
     "name": "stdout",
     "output_type": "stream",
     "text": [
      "Union of the two set is ::  {10.2, 10, (4+3j), 'Hello', (5+4j), 20, 20.2, 'world', 23.45, 24.5}\n"
     ]
    }
   ],
   "source": [
    "s1 = {10,23.45,10,10.20,4+3j,'Hello'}\n",
    "s2 = {20,24.5,20.20,5+4j,'world'}\n",
    "A = s1 | s2\n",
    "print(f\"Union of the two set is :: \",A)"
   ]
  },
  {
   "cell_type": "markdown",
   "metadata": {},
   "source": [
    "### 05) WAP to check if two lists have at-least one element common."
   ]
  },
  {
   "cell_type": "code",
   "execution_count": 82,
   "metadata": {},
   "outputs": [
    {
     "name": "stdout",
     "output_type": "stream",
     "text": [
      "The lists have at least one common element.\n"
     ]
    }
   ],
   "source": [
    "l1 = [1, 2, 3, 4,5]\n",
    "l2 = [6, 7, 8, 9]\n",
    "c = (i in l1 for i in l2)\n",
    "if c:\n",
    "    print(\"The lists have at least one common element.\")\n",
    "else:\n",
    "    print(\"The lists do not have any common elements.\")"
   ]
  },
  {
   "cell_type": "markdown",
   "metadata": {},
   "source": [
    "### 06) WAP to remove duplicates from list."
   ]
  },
  {
   "cell_type": "code",
   "execution_count": 84,
   "metadata": {},
   "outputs": [
    {
     "name": "stdout",
     "output_type": "stream",
     "text": [
      "List after removing duplicates: [1, 2, 3, 4, 5]\n"
     ]
    }
   ],
   "source": [
    "l1 = [1, 2, 2, 3, 4, 4, 5]\n",
    "unique = list(set(l1))\n",
    "print(\"List after removing duplicates:\", unique)"
   ]
  },
  {
   "cell_type": "markdown",
   "metadata": {},
   "source": [
    "### 07) WAP to find unique words in the given string."
   ]
  },
  {
   "cell_type": "code",
   "execution_count": 86,
   "metadata": {},
   "outputs": [
    {
     "name": "stdout",
     "output_type": "stream",
     "text": [
      "Unique words: {'hello', 'world', 'everyone'}\n"
     ]
    }
   ],
   "source": [
    "s1 = \"hello world hello everyone\"\n",
    "words = s1.split()\n",
    "unique = set(words)\n",
    "print(\"Unique words:\", unique)"
   ]
  },
  {
   "cell_type": "markdown",
   "metadata": {},
   "source": [
    "### 08) WAP to remove common elements of set A & B from set A."
   ]
  },
  {
   "cell_type": "code",
   "execution_count": 92,
   "metadata": {},
   "outputs": [
    {
     "name": "stdout",
     "output_type": "stream",
     "text": [
      "Set A After removing  Common Element in S2 is :::  {40, 50, 20}\n"
     ]
    }
   ],
   "source": [
    "s1 = {10,20,30,40,50}\n",
    "s2 = {10,30,45,55,25}\n",
    "\n",
    "A= s1 - s2.intersection(s2)\n",
    "print(\"Set A After removing  Common Element in S2 is ::: \",A)"
   ]
  },
  {
   "cell_type": "markdown",
   "metadata": {},
   "source": [
    "### 09) WAP to check whether two given strings are anagram or not using set."
   ]
  },
  {
   "cell_type": "code",
   "execution_count": 96,
   "metadata": {},
   "outputs": [
    {
     "name": "stdout",
     "output_type": "stream",
     "text": [
      "\"mition\" And \"decimal\" Both Are Note Anagram.\n"
     ]
    }
   ],
   "source": [
    "str1=\"medical\"\n",
    "str2=\"decimal\"\n",
    "s1 = set(str1)\n",
    "s2 = set(str2)\n",
    "if s1==s2 :\n",
    "    print(f'\"{str1}\" And \"{str2}\" Both Are Anagram.')\n",
    "else:   \n",
    "    print(f'\"{str1}\" And \"{str2}\" Both Are Note Anagram.')"
   ]
  },
  {
   "cell_type": "markdown",
   "metadata": {},
   "source": [
    "### 10) WAP to find common elements in three lists using set."
   ]
  },
  {
   "cell_type": "code",
   "execution_count": 98,
   "metadata": {},
   "outputs": [
    {
     "name": "stdout",
     "output_type": "stream",
     "text": [
      "Common element in All List is ::  {1, 2, 5}\n"
     ]
    }
   ],
   "source": [
    "l1 = [1,2,3,4,5]\n",
    "l2 = [1,2,0,5,6]\n",
    "l3 = [1,2,0,5,6,8,9]\n",
    "s1 = set(l1)\n",
    "s2 = set(l2)\n",
    "s3 = set(l3)\n",
    "common = s1 & s2 & s3\n",
    "print(f\"Common element in All List is :: \",common)"
   ]
  },
  {
   "cell_type": "markdown",
   "metadata": {},
   "source": [
    "### 11) WAP to count number of vowels in given string using set."
   ]
  },
  {
   "cell_type": "code",
   "execution_count": 100,
   "metadata": {},
   "outputs": [
    {
     "name": "stdout",
     "output_type": "stream",
     "text": [
      "Number of vowels in the given string: 3\n"
     ]
    }
   ],
   "source": [
    "str1 = \"Hello World\"\n",
    "vowels = {'a', 'e', 'i', 'o', 'u', 'A', 'E', 'I', 'O', 'U'}\n",
    "vcount = sum(1 for char in str1 if char in vowels)\n",
    "print(\"Number of vowels in the given string:\", vcount)"
   ]
  },
  {
   "cell_type": "markdown",
   "metadata": {},
   "source": [
    "### 12) WAP to check if a given string is binary string or not."
   ]
  },
  {
   "cell_type": "code",
   "execution_count": 108,
   "metadata": {},
   "outputs": [
    {
     "name": "stdout",
     "output_type": "stream",
     "text": [
      "Given String os s1 is : \"1010100\" is a binary string.\n"
     ]
    }
   ],
   "source": [
    "s1 = \"1010100\"\n",
    "binary = {'0', '1'}\n",
    "is_binary = all(char in binary for char in s1)\n",
    "if is_binary:\n",
    "    print(f'Given String os s1 is : \"{s1}\" is a binary string.')\n",
    "else:\n",
    "    print(f'Given String os s1 is : \"{s1}\" And is not a binary string.')"
   ]
  },
  {
   "cell_type": "markdown",
   "metadata": {},
   "source": [
    "### 13) WAP to sort dictionary by key or value."
   ]
  },
  {
   "cell_type": "code",
   "execution_count": 110,
   "metadata": {},
   "outputs": [
    {
     "name": "stdout",
     "output_type": "stream",
     "text": [
      "Dictionary sorted by key: {'a': 1, 'b': 3, 'c': 2}\n"
     ]
    }
   ],
   "source": [
    "d1 = {'b': 3, 'a': 1, 'c': 2}\n",
    "sorted_by_key = dict(sorted(d1.items()))\n",
    "print(\"Dictionary sorted by key:\", sorted_by_key)"
   ]
  },
  {
   "cell_type": "markdown",
   "metadata": {},
   "source": [
    "### 14) WAP to find the sum of all items (values) in a dictionary given by user. (Assume: values are numeric)"
   ]
  },
  {
   "cell_type": "code",
   "execution_count": 126,
   "metadata": {},
   "outputs": [
    {
     "data": {
      "text/plain": [
       "15"
      ]
     },
     "execution_count": 126,
     "metadata": {},
     "output_type": "execute_result"
    }
   ],
   "source": [
    "dict1 = {'a': 5, 'c': 8, 'e': 2}\n",
    "v = dict1.values()\n",
    "sum(v)"
   ]
  },
  {
   "cell_type": "markdown",
   "metadata": {},
   "source": [
    "### 15) WAP to handle missing keys in dictionaries.\n",
    "#### Example : Given, dict1 = {'a': 5, 'c': 8, 'e': 2} \n",
    "#### if you look for key = 'd', the message given should be 'Key Not Found', otherwise print the value of 'd' in dict1."
   ]
  },
  {
   "cell_type": "code",
   "execution_count": 121,
   "metadata": {},
   "outputs": [
    {
     "name": "stdin",
     "output_type": "stream",
     "text": [
      "enter the key to search :  k\n"
     ]
    },
    {
     "name": "stdout",
     "output_type": "stream",
     "text": [
      "No key found\n"
     ]
    }
   ],
   "source": [
    "dict1 = {'a': 5, 'c': 8, 'e': 2}\n",
    "d1 = input('enter the key to search : ')\n",
    "\n",
    "if d1 in dict1.keys():\n",
    "    print(dict1[d1])\n",
    "else:\n",
    "    print('No key found')"
   ]
  }
 ],
 "metadata": {
  "kernelspec": {
   "display_name": "Python 3 (ipykernel)",
   "language": "python",
   "name": "python3"
  },
  "language_info": {
   "codemirror_mode": {
    "name": "ipython",
    "version": 3
   },
   "file_extension": ".py",
   "mimetype": "text/x-python",
   "name": "python",
   "nbconvert_exporter": "python",
   "pygments_lexer": "ipython3",
   "version": "3.12.7"
  }
 },
 "nbformat": 4,
 "nbformat_minor": 4
}
