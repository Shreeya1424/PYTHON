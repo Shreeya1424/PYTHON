{
 "cells": [
  {
   "cell_type": "markdown",
   "metadata": {},
   "source": [
    "\n",
    "<a href='https://www.darshan.ac.in/'> <img src='https://www.darshan.ac.in/Content/media/DU_Logo.svg' width=\"250\" height=\"300\"/></a>\n",
    "<pre>\n",
    "<center><b><h1>Python Programming - 2301CS404</b></center>\n",
    "<center><b><h1>Lab - 5</b></center>\n",
    "<center><b><h1>Shreeya | 23010101066 | 27/12/2024</b></center> \n",
    "<pre>"
   ]
  },
  {
   "cell_type": "markdown",
   "metadata": {},
   "source": [
    "# List"
   ]
  },
  {
   "cell_type": "markdown",
   "metadata": {},
   "source": [
    "### 01) WAP to find sum of all the elements in a List."
   ]
  },
  {
   "cell_type": "code",
   "execution_count": 4,
   "metadata": {},
   "outputs": [
    {
     "name": "stdout",
     "output_type": "stream",
     "text": [
      "150\n"
     ]
    }
   ],
   "source": [
    "l1=[10,20,30,40,50]\n",
    "sum=0\n",
    "for i in l1:\n",
    "    sum+=i\n",
    "else:\n",
    "    print(sum)"
   ]
  },
  {
   "cell_type": "markdown",
   "metadata": {},
   "source": [
    "### 02) WAP to find largest element in a List."
   ]
  },
  {
   "cell_type": "code",
   "execution_count": 8,
   "metadata": {},
   "outputs": [
    {
     "name": "stdout",
     "output_type": "stream",
     "text": [
      "Large no is:50\n"
     ]
    }
   ],
   "source": [
    "l1=[10,20,30,40,50]\n",
    "large = int()\n",
    "for i in l1:\n",
    "   if i>large:\n",
    "       large=i\n",
    "else:\n",
    "    print(f\"Large no is:{large}\")"
   ]
  },
  {
   "cell_type": "markdown",
   "metadata": {},
   "source": [
    "### 03) WAP to find the length of a List."
   ]
  },
  {
   "cell_type": "code",
   "execution_count": 12,
   "metadata": {},
   "outputs": [
    {
     "data": {
      "text/plain": [
       "5"
      ]
     },
     "execution_count": 12,
     "metadata": {},
     "output_type": "execute_result"
    }
   ],
   "source": [
    "l1=[10,20,30,40,50]\n",
    "len(l1)"
   ]
  },
  {
   "cell_type": "markdown",
   "metadata": {},
   "source": [
    "### 04) WAP to interchange first and last elements in a list."
   ]
  },
  {
   "cell_type": "code",
   "execution_count": 7,
   "metadata": {},
   "outputs": [
    {
     "name": "stdin",
     "output_type": "stream",
     "text": [
      "Enter List Size: 5\n",
      "Enter A Element:: 10\n",
      "Enter A Element:: 20\n",
      "Enter A Element:: 30\n",
      "Enter A Element:: 40\n",
      "Enter A Element:: 50\n"
     ]
    },
    {
     "name": "stdout",
     "output_type": "stream",
     "text": [
      "[50, 20, 30, 40, 10]\n"
     ]
    }
   ],
   "source": [
    "list = []\n",
    "n = int(input(\"Enter List Size:\"))\n",
    "\n",
    "for i in range(0,n):\n",
    "         element = int(input(\"Enter A Element::\"))\n",
    "         list.append(element)\n",
    "list[0],list[-1]=list[-1],list[0]\n",
    "print(list) "
   ]
  },
  {
   "cell_type": "markdown",
   "metadata": {},
   "source": [
    "### 05) WAP to split the List into two parts and append the first part to the end."
   ]
  },
  {
   "cell_type": "code",
   "execution_count": 9,
   "metadata": {},
   "outputs": [
    {
     "name": "stdin",
     "output_type": "stream",
     "text": [
      "Enter List Size: 5\n",
      " 10\n",
      " 20\n",
      " 30\n",
      " 40\n",
      " 50\n"
     ]
    },
    {
     "name": "stdout",
     "output_type": "stream",
     "text": [
      "[[30, 40, 50], [10, 20]]\n"
     ]
    }
   ],
   "source": [
    "list = []\n",
    "n = int(input(\"Enter List Size:\"))\n",
    "for i in range(0,n):\n",
    "     element = int(input(\"Enter A Element::\"))\n",
    "     list.append(element)\n",
    "mid = int(n/2)\n",
    "first_list = list[0:mid]\n",
    "second_list = list[mid:]\n",
    "newlist = []\n",
    "newlist.append(second_list)\n",
    "newlist.append(first_list)\n",
    "print(newlist)"
   ]
  },
  {
   "cell_type": "markdown",
   "metadata": {},
   "source": [
    "### 06) WAP to interchange the elements on two positions entered by a user."
   ]
  },
  {
   "cell_type": "code",
   "execution_count": 11,
   "metadata": {},
   "outputs": [
    {
     "name": "stdin",
     "output_type": "stream",
     "text": [
      "Enter a Lenth of List : 5\n",
      "Enter a element :: 10\n",
      "Enter a element :: 20\n",
      "Enter a element :: 52\n",
      "Enter a element :: 65\n",
      "Enter a element :: 42\n",
      "Enter a first Position : 2\n",
      "Enter a second Position : 4\n"
     ]
    },
    {
     "name": "stdout",
     "output_type": "stream",
     "text": [
      "So List is [10, 20, 42, 65, 52]\n"
     ]
    }
   ],
   "source": [
    "list=[]\n",
    "n=int(input(\"Enter a Lenth of List :\"))\n",
    "for i in range(0,n):\n",
    "    element=int(input(\"Enter a element ::\"))\n",
    "    list.append(element)\n",
    "start=int(input(\"Enter a first Position :\"))\n",
    "end=int(input(\"Enter a second Position :\"))\n",
    "list[start],list[end]=list[end],list[start]\n",
    "print(f\"So List is\",list)"
   ]
  },
  {
   "cell_type": "markdown",
   "metadata": {},
   "source": [
    "### 07) WAP to reverse the list entered by user."
   ]
  },
  {
   "cell_type": "code",
   "execution_count": 13,
   "metadata": {},
   "outputs": [
    {
     "name": "stdin",
     "output_type": "stream",
     "text": [
      "Enter aLenth of list 5\n",
      "Enter a Element :: 20\n",
      "Enter a Element :: 65\n",
      "Enter a Element :: 45\n",
      "Enter a Element :: 85\n",
      "Enter a Element :: 96\n"
     ]
    },
    {
     "name": "stdout",
     "output_type": "stream",
     "text": [
      "So List is =  [96, 85, 45, 65, 20]\n"
     ]
    }
   ],
   "source": [
    "list=[]\n",
    "n=int(input(\"Enter aLenth of list\"))\n",
    "for i in range(0,n):\n",
    "    element=int(input(\"Enter a Element ::\"))\n",
    "    list.append(element)\n",
    "i=0\n",
    "j=n-1\n",
    "while i<j:\n",
    "    temp=list[i]\n",
    "    list[i]=list[j]\n",
    "    list[j]=temp\n",
    "    i+=1\n",
    "    j-=1\n",
    "print(f\"So List is = \",list)"
   ]
  },
  {
   "cell_type": "markdown",
   "metadata": {},
   "source": [
    "### 08) WAP to print even numbers in a list."
   ]
  },
  {
   "cell_type": "code",
   "execution_count": 25,
   "metadata": {},
   "outputs": [
    {
     "name": "stdin",
     "output_type": "stream",
     "text": [
      "Enter aLenth of list 5\n",
      "Enter a Element :: 20\n",
      "Enter a Element :: 35\n",
      "Enter a Element :: 63\n",
      "Enter a Element :: 99\n",
      "Enter a Element :: 78\n"
     ]
    },
    {
     "name": "stdout",
     "output_type": "stream",
     "text": [
      "even no is :2\n",
      "odd no is :3\n"
     ]
    }
   ],
   "source": [
    "list=[]\n",
    "n=int(input(\"Enter aLenth of list\"))\n",
    "for i in range(0,n):\n",
    "    element=int(input(\"Enter a Element ::\"))\n",
    "    list.append(element)\n",
    "evencount=0\n",
    "oddcount=0\n",
    "for i in list:\n",
    "    if i%2==0:\n",
    "        evencount+=1\n",
    "    else:\n",
    "        oddcount+=1\n",
    "print(f\"even no is :{evencount}\")\n",
    "print(f\"odd no is :{oddcount}\")"
   ]
  },
  {
   "cell_type": "markdown",
   "metadata": {},
   "source": [
    "### 09) WAP to count unique items in a list."
   ]
  },
  {
   "cell_type": "code",
   "execution_count": 31,
   "metadata": {},
   "outputs": [
    {
     "name": "stdin",
     "output_type": "stream",
     "text": [
      "Enter aLenth of list 5\n",
      "Enter a Element :: 10\n",
      "Enter a Element :: 20\n",
      "Enter a Element :: 30\n",
      "Enter a Element :: 30\n",
      "Enter a Element :: 45\n"
     ]
    },
    {
     "name": "stdout",
     "output_type": "stream",
     "text": [
      "unique element is [10, 20, 45]\n",
      "Print Number of elemrnt is : 3\n"
     ]
    }
   ],
   "source": [
    "list=[]\n",
    "l2=[]\n",
    "n=int(input(\"Enter aLenth of list\"))\n",
    "for i in range(0,n):\n",
    "    element=int(input(\"Enter a Element ::\"))\n",
    "    list.append(element)\n",
    "for i in list:\n",
    "    if list.count(i)==1:\n",
    "       l2.append(i)     \n",
    "print(f\"unique element is\",l2)\n",
    "print(f\"Print unique Number of list is : {len(l2)}\")"
   ]
  },
  {
   "cell_type": "markdown",
   "metadata": {},
   "source": [
    "### 10) WAP to copy a list."
   ]
  },
  {
   "cell_type": "code",
   "execution_count": 33,
   "metadata": {},
   "outputs": [
    {
     "name": "stdout",
     "output_type": "stream",
     "text": [
      "[1, 2, 3, 4, 5, 6]\n"
     ]
    }
   ],
   "source": [
    "l1=[1,2,3,4,5,6]\n",
    "l2=l1.copy()\n",
    "print(l2)"
   ]
  },
  {
   "cell_type": "markdown",
   "metadata": {},
   "source": [
    "### 11) WAP to print all odd numbers in a given range."
   ]
  },
  {
   "cell_type": "code",
   "execution_count": 51,
   "metadata": {},
   "outputs": [
    {
     "name": "stdout",
     "output_type": "stream",
     "text": [
      "[1, 3, 5, 7, 9]\n"
     ]
    }
   ],
   "source": [
    "list=[]\n",
    "for i in range(0,11):\n",
    "    if i%2!=0:\n",
    "        list.append(i)\n",
    "print(list)"
   ]
  },
  {
   "cell_type": "markdown",
   "metadata": {},
   "source": [
    "### 12) WAP to count occurrences of an element in a list."
   ]
  },
  {
   "cell_type": "code",
   "execution_count": 53,
   "metadata": {},
   "outputs": [
    {
     "name": "stdout",
     "output_type": "stream",
     "text": [
      "{1, 2, 3, 4, 5, 6, 7, 8, 9}\n",
      "Count occurences is : 1=1\n",
      "Count occurences is : 2=1\n",
      "Count occurences is : 3=1\n",
      "Count occurences is : 4=1\n",
      "Count occurences is : 5=1\n",
      "Count occurences is : 6=1\n",
      "Count occurences is : 7=1\n",
      "Count occurences is : 8=1\n",
      "Count occurences is : 9=1\n"
     ]
    }
   ],
   "source": [
    "list=[1,2,4,5,6,7,8,9,3]\n",
    "count=0\n",
    "s=set(list)\n",
    "print(s)\n",
    "for i in s:\n",
    "    temp=list.count(i)\n",
    "    print(f\"Count occurences is : {i}={temp}\")"
   ]
  },
  {
   "cell_type": "markdown",
   "metadata": {},
   "source": [
    "### 13) WAP to find second largest number in a list."
   ]
  },
  {
   "cell_type": "code",
   "execution_count": 59,
   "metadata": {},
   "outputs": [
    {
     "name": "stdin",
     "output_type": "stream",
     "text": [
      "Enter aLenth of list 3\n",
      "Enter a Element :: 10\n",
      "Enter a Element :: 20\n",
      "Enter a Element :: 30\n"
     ]
    },
    {
     "name": "stdout",
     "output_type": "stream",
     "text": [
      "20\n"
     ]
    }
   ],
   "source": [
    "list=[]\n",
    "n=int(input(\"Enter aLenth of list\"))\n",
    "for i in range(0,n):\n",
    "    element=int(input(\"Enter a Element ::\"))\n",
    "    list.append(element)\n",
    "list.sort()\n",
    "print(list[len(list)-2])"
   ]
  },
  {
   "cell_type": "markdown",
   "metadata": {},
   "source": [
    "### 14) WAP to extract elements with frequency greater than K."
   ]
  },
  {
   "cell_type": "code",
   "execution_count": 68,
   "metadata": {},
   "outputs": [
    {
     "name": "stdout",
     "output_type": "stream",
     "text": [
      "2 []\n"
     ]
    }
   ],
   "source": [
    "l1=[0,1,2,3,4,5,6,7,8,9]\n",
    "k=2\n",
    "freq={}\n",
    "for num in l1:\n",
    "    if num in freq:\n",
    "        freq[num]+=1\n",
    "    else:\n",
    "        freq[num]=1\n",
    "result=[]\n",
    "\n",
    "for num,count in freq.items():\n",
    "    if count>k:\n",
    "        result.append(num)\n",
    "print(k,result)"
   ]
  },
  {
   "cell_type": "markdown",
   "metadata": {},
   "source": [
    "### 15) WAP to create a list of squared numbers from 0 to 9 with and without using List Comprehension."
   ]
  },
  {
   "cell_type": "code",
   "execution_count": 61,
   "metadata": {},
   "outputs": [
    {
     "name": "stdout",
     "output_type": "stream",
     "text": [
      "[0, 1, 4, 9, 16, 25, 36, 49, 64, 81]\n",
      "[0, 1, 4, 9, 16, 25, 36, 49, 64, 81]\n"
     ]
    }
   ],
   "source": [
    "list=[0,1,2,3,4,5,6,7,8,9]\n",
    "l2=[]\n",
    "for i in list:\n",
    "    l2.append(i**2)\n",
    "print(l2)\n",
    "\n",
    "l3=[i**2 for i in list]\n",
    "print(l3)\n",
    "    "
   ]
  },
  {
   "cell_type": "markdown",
   "metadata": {},
   "source": [
    "### 16) WAP to create a new list (fruit whose name starts with 'b') from the list of fruits given by user."
   ]
  },
  {
   "cell_type": "code",
   "execution_count": 63,
   "metadata": {},
   "outputs": [
    {
     "name": "stdin",
     "output_type": "stream",
     "text": [
      "Enter a fruit : banana\n"
     ]
    },
    {
     "name": "stdout",
     "output_type": "stream",
     "text": [
      "['banana']\n"
     ]
    }
   ],
   "source": [
    "fruits = input(\"Enter a fruit :\").split()\n",
    "b_fruits =[fruit for fruit in fruits if fruit.lower().startswith(\"b\")]\n",
    "print(b_fruits)\n"
   ]
  },
  {
   "cell_type": "markdown",
   "metadata": {},
   "source": [
    "### 17) WAP to create a list of common elements from given two lists."
   ]
  },
  {
   "cell_type": "code",
   "execution_count": 2,
   "metadata": {},
   "outputs": [
    {
     "name": "stdout",
     "output_type": "stream",
     "text": [
      "Common elements: [3, 4, 5]\n"
     ]
    }
   ],
   "source": [
    "l1 = [1, 2, 3, 4, 5]\n",
    "l2 = [3, 4, 5, 6, 7]\n",
    "common_elements = []\n",
    "for element in l1:\n",
    "    if element in l2:\n",
    "        common_elements.append(element)\n",
    "print(\"Common elements:\", common_elements)\n"
   ]
  },
  {
   "cell_type": "code",
   "execution_count": null,
   "metadata": {},
   "outputs": [],
   "source": []
  }
 ],
 "metadata": {
  "kernelspec": {
   "display_name": "Python 3 (ipykernel)",
   "language": "python",
   "name": "python3"
  },
  "language_info": {
   "codemirror_mode": {
    "name": "ipython",
    "version": 3
   },
   "file_extension": ".py",
   "mimetype": "text/x-python",
   "name": "python",
   "nbconvert_exporter": "python",
   "pygments_lexer": "ipython3",
   "version": "3.12.7"
  }
 },
 "nbformat": 4,
 "nbformat_minor": 4
}
