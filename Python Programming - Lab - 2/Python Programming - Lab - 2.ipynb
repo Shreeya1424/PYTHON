{
 "cells": [
  {
   "cell_type": "markdown",
   "metadata": {},
   "source": [
    "\n",
    "<a href='https://www.darshan.ac.in/'> <img src='https://www.darshan.ac.in/Content/media/DU_Logo.svg' width=\"250\" height=\"300\"/></a>\n",
    "<pre>\n",
    "<center><b><h1>Python Programming - 2301CS404</b></center>\n",
    "<center><b><h1>Lab - 2</b></center>\n",
    "<center><b><h1>Shreeya Dhol || 23010101066 || 6/12/2024</b></center>\n",
    "<pre>"
   ]
  },
  {
   "cell_type": "markdown",
   "metadata": {},
   "source": [
    "# if..else.."
   ]
  },
  {
   "cell_type": "markdown",
   "metadata": {},
   "source": [
    "### 01) WAP to check whether the given number is positive or negative."
   ]
  },
  {
   "cell_type": "code",
   "execution_count": 27,
   "metadata": {},
   "outputs": [
    {
     "name": "stdin",
     "output_type": "stream",
     "text": [
      "Enter a value of a is : 5\n"
     ]
    },
    {
     "name": "stdout",
     "output_type": "stream",
     "text": [
      "A is positive\n",
      "A is positive\n"
     ]
    }
   ],
   "source": [
    "a=int(input(\"Enter a value of a is :\"))\n",
    "if a>0:\n",
    "    print(\"A is positive\")\n",
    "else:\n",
    "    print(\"A is negative\")\n",
    "\n",
    "positive='A is positive' if a>0 else 'a is negative'\n",
    "print(positive)"
   ]
  },
  {
   "cell_type": "markdown",
   "metadata": {},
   "source": [
    "### 02) WAP to check whether the given number is odd or even."
   ]
  },
  {
   "cell_type": "code",
   "execution_count": 17,
   "metadata": {},
   "outputs": [
    {
     "name": "stdin",
     "output_type": "stream",
     "text": [
      "Enter a value of a is : 6\n"
     ]
    },
    {
     "name": "stdout",
     "output_type": "stream",
     "text": [
      "A is even\n"
     ]
    }
   ],
   "source": [
    "a=int(input(\"Enter a value of a is :\"))\n",
    "if a%2==0:\n",
    "    print(\"A is even\")\n",
    "else:\n",
    "    print(\"A is odd\")"
   ]
  },
  {
   "cell_type": "markdown",
   "metadata": {},
   "source": [
    "### 03) WAP to find out largest number from given two numbers using simple if and ternary operator."
   ]
  },
  {
   "cell_type": "code",
   "execution_count": 25,
   "metadata": {},
   "outputs": [
    {
     "name": "stdin",
     "output_type": "stream",
     "text": [
      "Enter a value of a is : 8\n",
      "Enter a value of b is : 4\n"
     ]
    },
    {
     "name": "stdout",
     "output_type": "stream",
     "text": [
      "A is Largest\n",
      "A is Largest\n"
     ]
    }
   ],
   "source": [
    "a=int(input(\"Enter a value of a is :\"))\n",
    "b=int(input(\"Enter a value of b is :\"))\n",
    "if a>b:\n",
    "    print(\"A is Largest\")\n",
    "else:\n",
    "    print(\"b is Largest\")\n",
    "\n",
    "max='A is Largest' if a>b else 'B is largest'\n",
    "print(max)"
   ]
  },
  {
   "cell_type": "markdown",
   "metadata": {},
   "source": [
    "### 04) WAP to find out largest number from given three numbers."
   ]
  },
  {
   "cell_type": "code",
   "execution_count": 29,
   "metadata": {},
   "outputs": [
    {
     "name": "stdin",
     "output_type": "stream",
     "text": [
      "Enter a value of a is : 5\n",
      "Enter a value of b is : 4\n",
      "Enter a value of c is : 2\n"
     ]
    },
    {
     "name": "stdout",
     "output_type": "stream",
     "text": [
      "A is Largest\n"
     ]
    }
   ],
   "source": [
    "a=int(input(\"Enter a value of a is :\"))\n",
    "b=int(input(\"Enter a value of b is :\"))\n",
    "c=int(input(\"Enter a value of c is :\"))\n",
    "if a>b and a>c:\n",
    "    print(\"A is Largest\")\n",
    "elif b>c and b>a:\n",
    "    print(\"b is Largest\")\n",
    "else:\n",
    "    print(\"c is Largest\")\n"
   ]
  },
  {
   "cell_type": "markdown",
   "metadata": {},
   "source": [
    "### 05) WAP to check whether the given year is leap year or not.\n",
    "[If a year can be divisible by 4 but not divisible by 100 then it is leap year but if it is divisible by 400 then it is leap year]"
   ]
  },
  {
   "cell_type": "code",
   "execution_count": 33,
   "metadata": {},
   "outputs": [
    {
     "name": "stdin",
     "output_type": "stream",
     "text": [
      "Enter a value of a is : 2023\n"
     ]
    },
    {
     "name": "stdout",
     "output_type": "stream",
     "text": [
      "non leap year\n"
     ]
    }
   ],
   "source": [
    "a=int(input(\"Enter a value of a is :\"))\n",
    "if((a%400==0)or(a%100!=0)and(a%4==0)):\n",
    "    print('leap year')\n",
    "else:\n",
    "    print('non leap year')"
   ]
  },
  {
   "cell_type": "markdown",
   "metadata": {},
   "source": [
    "### 06) WAP in python to display the name of the day according to the number given by the user."
   ]
  },
  {
   "cell_type": "code",
   "execution_count": 39,
   "metadata": {},
   "outputs": [
    {
     "name": "stdin",
     "output_type": "stream",
     "text": [
      "Enter a value of a is : 5\n"
     ]
    },
    {
     "name": "stdout",
     "output_type": "stream",
     "text": [
      "Friday\n"
     ]
    }
   ],
   "source": [
    "a=int(input(\"Enter a value of a is :\"))\n",
    "if(a==1):\n",
    "    print('Monday')\n",
    "elif(a==2):\n",
    "    print('Tuesday')\n",
    "elif(a==3):\n",
    "    print('Wednesday')\n",
    "elif(a==4):\n",
    "    print('Thursday')\n",
    "elif(a==5):\n",
    "    print('Friday')\n",
    "elif(a==6):\n",
    "    print('Saturday')\n",
    "else:\n",
    "    print('Sunday')"
   ]
  },
  {
   "cell_type": "markdown",
   "metadata": {},
   "source": [
    "### 07) WAP to implement simple calculator which performs (add,sub,mul,div) of two no. based on user input."
   ]
  },
  {
   "cell_type": "code",
   "execution_count": 49,
   "metadata": {},
   "outputs": [
    {
     "name": "stdin",
     "output_type": "stream",
     "text": [
      "Enter a value of a is : 5\n",
      "Enter a value of b is : 5\n",
      "Enter a choice 1\n"
     ]
    },
    {
     "name": "stdout",
     "output_type": "stream",
     "text": [
      "10\n"
     ]
    }
   ],
   "source": [
    "a=int(input(\"Enter a value of a is :\"))\n",
    "b=int(input(\"Enter a value of b is :\"))\n",
    "c=int(input(\"Enter a choice\"))\n",
    "match(c):\n",
    "    case 1:\n",
    "        print(a+b)\n",
    "    case 2:\n",
    "        print(a-b)\n",
    "    case 3:\n",
    "        print(a*b)\n",
    "    case 4:\n",
    "        print(a/b)\n",
    "    case _:\n",
    "        print(\"Enter a valid choice\")"
   ]
  },
  {
   "cell_type": "markdown",
   "metadata": {},
   "source": [
    "### 08) WAP to read marks of five subjects. Calculate percentage and print class accordingly. \n",
    "Fail below 35 </br>\n",
    "Pass Class between 35 to 45 </br>\n",
    "Second Class</br>\n",
    "between 45 to 60</br>\n",
    "First Class between 60 to 70</br> \n",
    "Distinction if more than 70"
   ]
  },
  {
   "cell_type": "code",
   "execution_count": 55,
   "metadata": {},
   "outputs": [
    {
     "name": "stdin",
     "output_type": "stream",
     "text": [
      "Enter a value of a is : 75\n",
      "Enter a value of b is : 98\n",
      "Enter a value of c is : 88\n",
      "Enter a value of d is : 68\n",
      "Enter a value of e is : 79\n"
     ]
    },
    {
     "name": "stdout",
     "output_type": "stream",
     "text": [
      "81.6\n",
      "Distinction Class\n"
     ]
    }
   ],
   "source": [
    "a=int(input(\"Enter a value of a is :\"))\n",
    "b=int(input(\"Enter a value of b is :\"))\n",
    "c=int(input(\"Enter a value of c is :\"))\n",
    "d=int(input(\"Enter a value of d is :\"))\n",
    "e=int(input(\"Enter a value of e is :\"))\n",
    "\n",
    "ans=float((a+b+c+d+e)/5)\n",
    "print(ans)\n",
    "\n",
    "if a<35:\n",
    "    print(\"Fail Class\")\n",
    "elif(35<=ans and ans<45):\n",
    "    print('Pass Class')\n",
    "    \n",
    "elif(45<=ans and ans<60):\n",
    "    print('Second Class')\n",
    "    \n",
    "elif(60<=ans and ans<70):\n",
    "    print('First Class')\n",
    "    \n",
    "elif(ans>70):\n",
    "    print('Distinction Class')"
   ]
  },
  {
   "cell_type": "markdown",
   "metadata": {},
   "source": [
    "### 09) Three sides of a triangle are entered through the keyboard, WAP to check whether the triangle is isosceles, equilateral, scalene or right-angled triangle."
   ]
  },
  {
   "cell_type": "code",
   "execution_count": 57,
   "metadata": {},
   "outputs": [
    {
     "name": "stdin",
     "output_type": "stream",
     "text": [
      "Enter side1 length a is :  10.5\n",
      "Enter side2 length b is :  10.5\n",
      "Enter side3 length c is :  10\n"
     ]
    },
    {
     "name": "stdout",
     "output_type": "stream",
     "text": [
      "Isosceles triangle\n"
     ]
    }
   ],
   "source": [
    "a = float(input(\"Enter side1 length a is : \"))\n",
    "b = float(input(\"Enter side2 length b is : \"))\n",
    "c = float(input(\"Enter side3 length c is : \"))\n",
    "\n",
    "if(a==b and b==c):\n",
    "    print(\"Equilateral triangle\")\n",
    "elif(a==b or a==c or b==c):\n",
    "    print(\"Isosceles triangle\")\n",
    "elif(a!=b and b!=c):\n",
    "    print(\"Scalene triangle\")\n",
    "else:\n",
    "    print(\"Right-angle triangle\")"
   ]
  },
  {
   "cell_type": "markdown",
   "metadata": {},
   "source": [
    "### 10) WAP to find the second largest number among three user input numbers."
   ]
  },
  {
   "cell_type": "code",
   "execution_count": 71,
   "metadata": {},
   "outputs": [
    {
     "name": "stdin",
     "output_type": "stream",
     "text": [
      "Enter a value of a is : 5\n",
      "Enter a value of b is : 4\n",
      "Enter a value of c is : 6\n"
     ]
    },
    {
     "name": "stdout",
     "output_type": "stream",
     "text": [
      "a is second largest number\n"
     ]
    }
   ],
   "source": [
    "a=int(input(\"Enter a value of a is :\"))\n",
    "b=int(input(\"Enter a value of b is :\"))\n",
    "c=int(input(\"Enter a value of c is :\"))\n",
    "if (a>b):\n",
    "    if(b>c):\n",
    "        print(\"b is second largest number\")\n",
    "    elif(a>c) :\n",
    "        print(\"c is second largest number\")\n",
    "    else:\n",
    "        print(\"a is second largest number\")\n",
    "else:\n",
    "    if (a>c):\n",
    "        print(\"c is second largest number\")\n",
    "    else:\n",
    "        if (b>c):\n",
    "            print(\"c is second largest number\")\n",
    "        else:\n",
    "            print(\"b is second largest number\")"
   ]
  },
  {
   "cell_type": "markdown",
   "metadata": {},
   "source": [
    "### 11) WAP to calculate electricity bill based on following criteria. Which takes the unit from the user.\n",
    "a. First 1 to 50 units – Rs. 2.60/unit</br>\n",
    "b. Next 50 to 100 units – Rs. 3.25/unit</br>\n",
    "c. Next 100 to 200 units – Rs. 5.26/unit</br>\n",
    "d. above 200 units – Rs. 8.45/unit"
   ]
  },
  {
   "cell_type": "code",
   "execution_count": 75,
   "metadata": {},
   "outputs": [
    {
     "name": "stdin",
     "output_type": "stream",
     "text": [
      "Enter unit :  5\n"
     ]
    },
    {
     "name": "stdout",
     "output_type": "stream",
     "text": [
      "Your bill for 5 unit is 13.0\n"
     ]
    }
   ],
   "source": [
    "unit = int(input(\"Enter unit : \"))\n",
    "rs = 0.0;\n",
    "\n",
    "if(unit>=1 and unit<50):\n",
    "    rs = unit*2.60\n",
    "elif(unit>=50 and unit<100):\n",
    "    rs = 50*2.60 + (unit-50)*3.25\n",
    "elif(unit>=100 and unit<200):\n",
    "    rs = 50*2.60 + 50*3.25 + (unit-100)*5.26\n",
    "else:\n",
    "    rs = 50*2.60 + 50*3.25 + 100*5.26 + (unit-200)*8.45\n",
    "    \n",
    "print(\"Your bill for\",unit,\"unit is\",rs)"
   ]
  },
  {
   "cell_type": "code",
   "execution_count": null,
   "metadata": {},
   "outputs": [],
   "source": []
  }
 ],
 "metadata": {
  "kernelspec": {
   "display_name": "Python 3 (ipykernel)",
   "language": "python",
   "name": "python3"
  },
  "language_info": {
   "codemirror_mode": {
    "name": "ipython",
    "version": 3
   },
   "file_extension": ".py",
   "mimetype": "text/x-python",
   "name": "python",
   "nbconvert_exporter": "python",
   "pygments_lexer": "ipython3",
   "version": "3.12.7"
  }
 },
 "nbformat": 4,
 "nbformat_minor": 4
}
