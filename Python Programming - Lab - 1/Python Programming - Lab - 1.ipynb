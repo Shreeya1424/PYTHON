{
 "cells": [
  {
   "cell_type": "markdown",
   "metadata": {},
   "source": [
    "<a href='https://www.darshan.ac.in/'> <img src='https://www.darshan.ac.in/Content/media/DU_Logo.svg' width=\"250\" height=\"10\"/></a>\n",
    "<pre>\n",
    "<center><b><h1>Python Programming - 2301CS404</b></center>\n",
    "<center><b><h1>Lab - 1</b></center> \n",
    "    <center><b><h1>Shreeya Dhol | 23010101066 | 29-11-2024</b></center> \n",
    "<pre>\n"
   ]
  },
  {
   "cell_type": "markdown",
   "metadata": {},
   "source": [
    "### 01) WAP to print “Hello World”"
   ]
  },
  {
   "cell_type": "code",
   "execution_count": 1,
   "metadata": {},
   "outputs": [
    {
     "name": "stdout",
     "output_type": "stream",
     "text": [
      "Hello World\n"
     ]
    }
   ],
   "source": [
    "print(\"Hello World\")\n"
   ]
  },
  {
   "cell_type": "markdown",
   "metadata": {},
   "source": [
    "### 02) WAP to print addition of two numbers with and without using input()."
   ]
  },
  {
   "cell_type": "code",
   "execution_count": 15,
   "metadata": {},
   "outputs": [
    {
     "name": "stdin",
     "output_type": "stream",
     "text": [
      "Enter a value of a : 2\n",
      "Enter a value of b : 3\n"
     ]
    },
    {
     "name": "stdout",
     "output_type": "stream",
     "text": [
      "sum of no 5\n",
      "sum of no 20\n"
     ]
    }
   ],
   "source": [
    "a=int(input(\"Enter a value of a :\"))\n",
    "b=int(input(\"Enter a value of b :\"))\n",
    "print(\"sum of no\",(a+b))\n",
    "\n",
    "a,b=5,15\n",
    "print(\"sum of no\",(a+b))"
   ]
  },
  {
   "cell_type": "markdown",
   "metadata": {},
   "source": [
    "### 03) WAP to check the type of the variable."
   ]
  },
  {
   "cell_type": "code",
   "execution_count": 17,
   "metadata": {},
   "outputs": [
    {
     "name": "stdout",
     "output_type": "stream",
     "text": [
      "<class 'int'>\n"
     ]
    }
   ],
   "source": [
    "a=10\n",
    "print(type(a))"
   ]
  },
  {
   "cell_type": "markdown",
   "metadata": {},
   "source": [
    "### 04) WAP to calculate simple interest."
   ]
  },
  {
   "cell_type": "code",
   "execution_count": 19,
   "metadata": {},
   "outputs": [
    {
     "name": "stdin",
     "output_type": "stream",
     "text": [
      "Enter a value of p : 23\n",
      "Enter a value of r : 12\n",
      "Enter a value of t: 1\n"
     ]
    },
    {
     "name": "stdout",
     "output_type": "stream",
     "text": [
      "simple intrest of no is 2.76\n"
     ]
    }
   ],
   "source": [
    "p=float(input(\"Enter a value of p :\"))\n",
    "r=float(input(\"Enter a value of r :\"))\n",
    "t=float(input(\"Enter a value of t:\"))\n",
    "print(\"simple intrest of no is\",((p*r*t)/100))"
   ]
  },
  {
   "cell_type": "markdown",
   "metadata": {},
   "source": [
    "### 05) WAP to calculate area and perimeter of a circle."
   ]
  },
  {
   "cell_type": "code",
   "execution_count": 23,
   "metadata": {},
   "outputs": [
    {
     "name": "stdin",
     "output_type": "stream",
     "text": [
      "Enter a value of r : 2\n"
     ]
    },
    {
     "name": "stdout",
     "output_type": "stream",
     "text": [
      "area of circle is : 12.56\n",
      "perimeter of circle is : 12.56\n"
     ]
    }
   ],
   "source": [
    "pi=3.14\n",
    "r=float(input(\"Enter a value of r :\"))\n",
    "print(\"area of circle is :\",(pi*r*r))\n",
    "print(\"perimeter of circle is :\",(2*pi*r))"
   ]
  },
  {
   "cell_type": "markdown",
   "metadata": {},
   "source": [
    "### 06) WAP to calculate area of a triangle."
   ]
  },
  {
   "cell_type": "code",
   "execution_count": 25,
   "metadata": {},
   "outputs": [
    {
     "name": "stdin",
     "output_type": "stream",
     "text": [
      "Enter a value of b : 2\n",
      "Enter a value of h : 5\n"
     ]
    },
    {
     "name": "stdout",
     "output_type": "stream",
     "text": [
      "area of circle is : 5.0\n"
     ]
    }
   ],
   "source": [
    "b=float(input(\"Enter a value of b :\"))\n",
    "h=float(input(\"Enter a value of h :\"))\n",
    "print(\"area of circle is :\",((1/2)*b*h))\n"
   ]
  },
  {
   "cell_type": "markdown",
   "metadata": {},
   "source": [
    "### 07) WAP to compute quotient and remainder."
   ]
  },
  {
   "cell_type": "code",
   "execution_count": 2,
   "metadata": {},
   "outputs": [
    {
     "name": "stdin",
     "output_type": "stream",
     "text": [
      "Enter a value of a : 6\n",
      "Enter a value of b : 2\n"
     ]
    },
    {
     "name": "stdout",
     "output_type": "stream",
     "text": [
      "Quotient is: 3.0\n",
      "Remainder is: 0.0\n"
     ]
    }
   ],
   "source": [
    "a=float(input(\"Enter a value of a :\"))\n",
    "b=float(input(\"Enter a value of b :\"))\n",
    "quotient=a/b\n",
    "remainder=a%b\n",
    "print(\"Quotient is:\",quotient)\n",
    "print(\"Remainder is:\",remainder)"
   ]
  },
  {
   "cell_type": "markdown",
   "metadata": {},
   "source": [
    "### 08) WAP to convert degree into Fahrenheit and vice versa."
   ]
  },
  {
   "cell_type": "code",
   "execution_count": 58,
   "metadata": {},
   "outputs": [
    {
     "name": "stdin",
     "output_type": "stream",
     "text": [
      "Enter a value of c : 297\n",
      "Enter a value of f : 450\n"
     ]
    },
    {
     "name": "stdout",
     "output_type": "stream",
     "text": [
      "tem in f is 566.6\n",
      "temp in c is 232.22222222222223\n"
     ]
    }
   ],
   "source": [
    "c=float(input(\"Enter a value of c :\"))\n",
    "f=float(input(\"Enter a value of f :\"))\n",
    "print(\"tem in f is\",((c*(9/5))+32))\n",
    "print(\"temp in c is\",(f-32)*(5/9))"
   ]
  },
  {
   "cell_type": "markdown",
   "metadata": {},
   "source": [
    "### 09) WAP to find the distance between two points in 2-D space."
   ]
  },
  {
   "cell_type": "code",
   "execution_count": 8,
   "metadata": {},
   "outputs": [
    {
     "name": "stdin",
     "output_type": "stream",
     "text": [
      "Enter a value of a1 : 25\n",
      "Enter a value of b1 : 25\n",
      "Enter a value of a2 : 10\n",
      "Enter a value of b2 : 10\n"
     ]
    },
    {
     "name": "stdout",
     "output_type": "stream",
     "text": [
      "distance of two point is 21.213203435596427\n"
     ]
    }
   ],
   "source": [
    "a1=float(input(\"Enter a value of a1 :\"))\n",
    "b1=float(input(\"Enter a value of b1 :\"))\n",
    "a2=float(input(\"Enter a value of a2 :\"))\n",
    "b2=float(input(\"Enter a value of b2 :\"))\n",
    "print('distance of two point is',(((a1-a2)**2+(b1-b2)**2)**0.5))"
   ]
  },
  {
   "cell_type": "markdown",
   "metadata": {},
   "source": [
    "### 10) WAP to print sum of n natural numbers."
   ]
  },
  {
   "cell_type": "code",
   "execution_count": 22,
   "metadata": {},
   "outputs": [
    {
     "name": "stdin",
     "output_type": "stream",
     "text": [
      "Enter a value of n : 16\n"
     ]
    },
    {
     "name": "stdout",
     "output_type": "stream",
     "text": [
      "sum of n no is : 136.0\n"
     ]
    }
   ],
   "source": [
    "n=int(input(\"Enter a value of n :\"))\n",
    "print('sum of n no is :',((n*(n+1))/2))"
   ]
  },
  {
   "cell_type": "markdown",
   "metadata": {},
   "source": [
    "### 11) WAP to print sum of square of n natural numbers."
   ]
  },
  {
   "cell_type": "code",
   "execution_count": 26,
   "metadata": {},
   "outputs": [
    {
     "name": "stdin",
     "output_type": "stream",
     "text": [
      "Enter a value of n : 2\n"
     ]
    },
    {
     "name": "stdout",
     "output_type": "stream",
     "text": [
      "sum of square of n no is : 5.0\n"
     ]
    }
   ],
   "source": [
    "n=int(input(\"Enter a value of n :\"))\n",
    "print('sum of square of n no is :',((n*(n+1)*(2*n+1))/6))"
   ]
  },
  {
   "cell_type": "markdown",
   "metadata": {},
   "source": [
    "### 12) WAP to concate the first and last name of the student."
   ]
  },
  {
   "cell_type": "code",
   "execution_count": 40,
   "metadata": {},
   "outputs": [
    {
     "name": "stdin",
     "output_type": "stream",
     "text": [
      "Enter a First Name : Shreeya\n",
      "Enter a Last Name : Dhol\n"
     ]
    },
    {
     "name": "stdout",
     "output_type": "stream",
     "text": [
      "concatination of name is : Shreeya Dhol\n"
     ]
    }
   ],
   "source": [
    "first=str(input(\"Enter a First Name :\"))\n",
    "last=str(input(\"Enter a Last Name :\"))\n",
    "print('concatination of name is :',first,last,sep=\" \")"
   ]
  },
  {
   "cell_type": "markdown",
   "metadata": {},
   "source": [
    "### 13) WAP to swap two numbers."
   ]
  },
  {
   "cell_type": "code",
   "execution_count": 6,
   "metadata": {},
   "outputs": [
    {
     "name": "stdin",
     "output_type": "stream",
     "text": [
      "Enter a value of a : 10\n",
      "Enter a value of b : 5\n"
     ]
    },
    {
     "name": "stdout",
     "output_type": "stream",
     "text": [
      "swap no 5 10\n"
     ]
    }
   ],
   "source": [
    "a=int(input(\"Enter a value of a :\"))\n",
    "b=int(input(\"Enter a value of b :\"))\n",
    "a=a+b\n",
    "b=a-b\n",
    "a=a-b\n",
    "print('swap no',a,b)"
   ]
  },
  {
   "cell_type": "markdown",
   "metadata": {},
   "source": [
    "### 14) WAP to get the distance from user into kilometer, and convert it into meter, feet, inches and centimeter."
   ]
  },
  {
   "cell_type": "code",
   "execution_count": 46,
   "metadata": {},
   "outputs": [
    {
     "name": "stdin",
     "output_type": "stream",
     "text": [
      "Enter a value of d in KM : 1\n"
     ]
    },
    {
     "name": "stdout",
     "output_type": "stream",
     "text": [
      "distance in meter is : 1000.0\n",
      "distance in feet is : 3281.0\n",
      "distance in inch is : 39370.0\n",
      "distance in centimeter is : 100000.0\n"
     ]
    }
   ],
   "source": [
    "d=float(input(\"Enter a value of d in KM :\"))\n",
    "print('distance in meter is :',(d*1000))\n",
    "print('distance in feet is :',(d*3281))\n",
    "print('distance in inch is :',(d*39370))\n",
    "print('distance in centimeter is :',(d*100000))"
   ]
  },
  {
   "cell_type": "markdown",
   "metadata": {},
   "source": [
    "### 15) WAP to get day, month and year from the user and print the date in the given format: 23-11-2024."
   ]
  },
  {
   "cell_type": "code",
   "execution_count": 54,
   "metadata": {},
   "outputs": [
    {
     "name": "stdin",
     "output_type": "stream",
     "text": [
      "Enter a day 12\n",
      "Enter a month 2\n",
      "Enter a year 2021\n"
     ]
    },
    {
     "name": "stdout",
     "output_type": "stream",
     "text": [
      "date is-12-2-2021\n"
     ]
    }
   ],
   "source": [
    "day=int(input(\"Enter a day\"))\n",
    "month=int(input(\"Enter a month\"))\n",
    "year=int(input(\"Enter a year\"))\n",
    "print('date is',day,month,year,sep=\"-\")"
   ]
  },
  {
   "cell_type": "code",
   "execution_count": null,
   "metadata": {},
   "outputs": [],
   "source": []
  }
 ],
 "metadata": {
  "kernelspec": {
   "display_name": "Python 3 (ipykernel)",
   "language": "python",
   "name": "python3"
  },
  "language_info": {
   "codemirror_mode": {
    "name": "ipython",
    "version": 3
   },
   "file_extension": ".py",
   "mimetype": "text/x-python",
   "name": "python",
   "nbconvert_exporter": "python",
   "pygments_lexer": "ipython3",
   "version": "3.12.7"
  },
  "vscode": {
   "interpreter": {
    "hash": "31f2aee4e71d21fbe5cf8b01ff0e069b9275f58929596ceb00d14d90e3e16cd6"
   }
  }
 },
 "nbformat": 4,
 "nbformat_minor": 4
}
